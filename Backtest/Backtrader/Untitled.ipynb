{
 "cells": [
  {
   "cell_type": "code",
   "execution_count": 1,
   "id": "a2d5765f",
   "metadata": {},
   "outputs": [
    {
     "name": "stderr",
     "output_type": "stream",
     "text": [
      "C:\\Users\\juanc\\anaconda3\\lib\\site-packages\\pyfolio\\pos.py:26: UserWarning: Module \"zipline.assets\" not found; mutltipliers will not be applied to position notionals.\n",
      "  warnings.warn(\n"
     ]
    }
   ],
   "source": [
    "import backtrader as bt\n",
    "import yfinance as yf\n",
    "import pyfolio as pf\n",
    "import warnings\n",
    "warnings.filterwarnings('ignore')"
   ]
  },
  {
   "cell_type": "code",
   "execution_count": 2,
   "id": "e5ea886a",
   "metadata": {
    "scrolled": true
   },
   "outputs": [
    {
     "name": "stdout",
     "output_type": "stream",
     "text": [
      "[*********************100%***********************]  1 of 1 completed\n"
     ]
    }
   ],
   "source": [
    "df = yf.download(\"BTC-USD\")"
   ]
  },
  {
   "cell_type": "code",
   "execution_count": 6,
   "id": "240e3008",
   "metadata": {},
   "outputs": [],
   "source": [
    "class Estrategia(bt.Strategy):\n",
    "    def log(self, txt, dt=None):\n",
    "        ''' Logging function fot this strategy'''\n",
    "        dt = dt or self.datas[0].datetime.date(0)\n",
    "        print('%s, %s' % (dt.isoformat(), txt))\n",
    "    \n",
    "    params = dict(fast = 50,\n",
    "                  slow = 200)\n",
    "        \n",
    "    def __init__(self):\n",
    "        smas = bt.indicators.SMA(self.p.fast)\n",
    "        smal = bt.indicators.SMA(self.p.slow)\n",
    "        self.crossover = bt.ind.CrossOver(smas, smal)\n",
    "        \n",
    "    def next(self):\n",
    "        if not self.position:      # Si no hay ninguna operacion abierta\n",
    "            if self.crossover > 0: # si la rapida cruza hacia arriba la lenta\n",
    "                self.buy()         # Se entra en LONG\n",
    "            if self.crossover < 0: # si la rapida cruza hacia abajo la lenta\n",
    "                self.sell()        # Se entra en SHORT\n",
    "\n",
    "        elif self.crossover != 0:  # Si hay una operacion abierta y el cruce es hacia abajo \n",
    "            self.close() "
   ]
  },
  {
   "cell_type": "code",
   "execution_count": 7,
   "id": "b5e03b39",
   "metadata": {},
   "outputs": [],
   "source": [
    "cerebro = bt.Cerebro()\n",
    "    \n",
    "cerebro.broker.setcash(100000.0)\n",
    "data = bt.feeds.PandasData(dataname = df)\n",
    "cerebro.adddata(data)\n",
    "cerebro.broker.setcommission(commission=0.001)\n",
    "cerebro.addanalyzer(bt.analyzers.PyFolio, _name='pyfolio')"
   ]
  },
  {
   "cell_type": "code",
   "execution_count": null,
   "id": "1e11da47",
   "metadata": {},
   "outputs": [],
   "source": [
    "cerebro.addstrategy(Estrategia)\n",
    "\n",
    "cerebro.run()"
   ]
  },
  {
   "cell_type": "code",
   "execution_count": null,
   "id": "00bf65a7",
   "metadata": {},
   "outputs": [],
   "source": [
    "print('Starting Portfolio Value: %.2f' % cerebro.broker.getvalue())\n",
    "print('Final Portfolio Value: %.2f' % cerebro.broker.getvalue())"
   ]
  },
  {
   "cell_type": "code",
   "execution_count": null,
   "id": "48fe83c7",
   "metadata": {},
   "outputs": [],
   "source": [
    "cerebro.plot()"
   ]
  },
  {
   "cell_type": "code",
   "execution_count": null,
   "id": "8dc393b2",
   "metadata": {},
   "outputs": [],
   "source": []
  }
 ],
 "metadata": {
  "kernelspec": {
   "display_name": "Python 3",
   "language": "python",
   "name": "python3"
  }
 },
 "nbformat": 4,
 "nbformat_minor": 5
}
