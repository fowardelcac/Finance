{
 "cells": [
  {
   "cell_type": "code",
   "execution_count": 1,
   "id": "cda1a9fb",
   "metadata": {},
   "outputs": [],
   "source": [
    "import pandas as pd\n",
    "import yfinance as yf\n",
    "import numpy as np\n",
    "import quantstats as qs"
   ]
  },
  {
   "cell_type": "code",
   "execution_count": 2,
   "id": "18c2142f",
   "metadata": {},
   "outputs": [],
   "source": [
    "def data(datos, s, l):\n",
    "    df = datos.copy()\n",
    "    df[\"Return\"] = df.Close.pct_change()\n",
    "    df[\"SMAs\"] = df.Close.rolling(s).mean()\n",
    "    df[\"SMAl\"] = df.Close.rolling(l).mean()\n",
    "    df = df.iloc[198:]\n",
    "    df = df.filter([\"Date\", \"Close\", \"Return\",\"SMAs\", \"SMAl\"], axis = 1)\n",
    "    return df"
   ]
  },
  {
   "cell_type": "code",
   "execution_count": 3,
   "id": "63c755a0",
   "metadata": {},
   "outputs": [
    {
     "name": "stdout",
     "output_type": "stream",
     "text": [
      "[*********************100%***********************]  1 of 1 completed\n"
     ]
    }
   ],
   "source": [
    "datos = yf.download(\"BTC-USD\")"
   ]
  },
  {
   "cell_type": "code",
   "execution_count": 4,
   "id": "fe7758e9",
   "metadata": {},
   "outputs": [
    {
     "ename": "SyntaxError",
     "evalue": "invalid syntax (<ipython-input-4-b7100d2bc8c2>, line 2)",
     "output_type": "error",
     "traceback": [
      "\u001b[1;36m  File \u001b[1;32m\"<ipython-input-4-b7100d2bc8c2>\"\u001b[1;36m, line \u001b[1;32m2\u001b[0m\n\u001b[1;33m    pd.options.display.precision = 5long_positions = np.where(df['SMAs'] > df['SMAl'], 1, 0)\u001b[0m\n\u001b[1;37m                                    ^\u001b[0m\n\u001b[1;31mSyntaxError\u001b[0m\u001b[1;31m:\u001b[0m invalid syntax\n"
     ]
    }
   ],
   "source": [
    "df = data(datos, 50, 200)\n",
    "pd.options.display.precision = 5long_positions = np.where(df['SMAs'] > df['SMAl'], 1, 0)\n",
    "df['Buy'] = long_positions\n",
    "\n",
    "short_positions = np.where(df['SMAs'] < df['SMAl'], 1, 0)\n",
    "df['Sell'] = short_positions\n",
    "\n",
    "df[\"buy_signals\"] = np.where((df['Buy'] == 1) & (df['Buy'].shift(1) == 0), 1, 0)\n",
    "df[\"short_positions\"] = np.where((df['Sell'] == 1) & (df['Sell'].shift(1) == 0), 1, 0)\n",
    "\n",
    "df[\"Estrategia\"] = (df.Buy.shift(1) * df.Return) + (df.Sell.shift(1) * (df.Return * -1))\n",
    "\n",
    "df.head()"
   ]
  },
  {
   "cell_type": "code",
   "execution_count": null,
   "id": "0c16840e",
   "metadata": {},
   "outputs": [],
   "source": []
  }
 ],
 "metadata": {
  "kernelspec": {
   "display_name": "Python 3",
   "language": "python",
   "name": "python3"
  },
  "language_info": {
   "codemirror_mode": {
    "name": "ipython",
    "version": 3
   },
   "file_extension": ".py",
   "mimetype": "text/x-python",
   "name": "python",
   "nbconvert_exporter": "python",
   "pygments_lexer": "ipython3",
   "version": "3.8.8"
  }
 },
 "nbformat": 4,
 "nbformat_minor": 5
}
