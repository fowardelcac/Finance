{
 "cells": [
  {
   "cell_type": "code",
   "execution_count": 6,
   "id": "987d7fe6",
   "metadata": {},
   "outputs": [],
   "source": [
    "import bt\n",
    "import yfinance as yf\n",
    "import pandas as pd"
   ]
  },
  {
   "cell_type": "code",
   "execution_count": 12,
   "id": "9f627719",
   "metadata": {},
   "outputs": [
    {
     "name": "stdout",
     "output_type": "stream",
     "text": [
      "[*********************100%***********************]  1 of 1 completed\n"
     ]
    }
   ],
   "source": [
    "df = yf.download(\"BTC-USD\")\n",
    "df = df.filter([\"Close\"], axis = 1)"
   ]
  },
  {
   "cell_type": "code",
   "execution_count": 9,
   "id": "27961b1f",
   "metadata": {},
   "outputs": [],
   "source": [
    "s = bt.Strategy(\"Buy and Hold\",\n",
    "               [bt.algos.RunMonthly(),\n",
    "                bt.algos.SelectAll(),\n",
    "                bt.algos.WeighEqually(),\n",
    "                bt.algos.Rebalance() \n",
    "               ])"
   ]
  },
  {
   "cell_type": "code",
   "execution_count": 15,
   "id": "240bc74e",
   "metadata": {},
   "outputs": [],
   "source": [
    "test = bt.Backtest(s, df)\n",
    "res = bt.run(test)"
   ]
  },
  {
   "cell_type": "code",
   "execution_count": 23,
   "id": "0c41e01a",
   "metadata": {},
   "outputs": [
    {
     "data": {
      "text/plain": [
       "<AxesSubplot:title={'center':'Equity Progression'}>"
      ]
     },
     "execution_count": 23,
     "metadata": {},
     "output_type": "execute_result"
    }
   ],
   "source": [
    "res.plot()"
   ]
  },
  {
   "cell_type": "code",
   "execution_count": 18,
   "id": "996de3e5",
   "metadata": {},
   "outputs": [
    {
     "name": "stdout",
     "output_type": "stream",
     "text": [
      "Stat                 Buy and Hold\n",
      "-------------------  --------------\n",
      "Start                2014-09-16\n",
      "End                  2021-07-20\n",
      "Risk-free rate       0.00%\n",
      "\n",
      "Total Return         6642.47%\n",
      "Daily Sharpe         1.00\n",
      "Daily Sortino        1.63\n",
      "CAGR                 85.05%\n",
      "Max Drawdown         -83.40%\n",
      "Calmar Ratio         1.02\n",
      "\n",
      "MTD                  -12.02%\n",
      "3m                   -45.41%\n",
      "6m                   -13.27%\n",
      "YTD                  6.30%\n",
      "1Y                   236.41%\n",
      "3Y (ann.)            61.22%\n",
      "5Y (ann.)            115.37%\n",
      "10Y (ann.)           -\n",
      "Since Incep. (ann.)  85.05%\n",
      "\n",
      "Daily Sharpe         1.00\n",
      "Daily Sortino        1.63\n",
      "Daily Mean (ann.)    62.17%\n",
      "Daily Vol (ann.)     62.27%\n",
      "Daily Skew           -0.16\n",
      "Daily Kurt           7.56\n",
      "Best Day             25.25%\n",
      "Worst Day            -37.17%\n",
      "\n",
      "Monthly Sharpe       1.18\n",
      "Monthly Sortino      3.03\n",
      "Monthly Mean (ann.)  94.95%\n",
      "Monthly Vol (ann.)   80.48%\n",
      "Monthly Skew         0.48\n",
      "Monthly Kurt         0.01\n",
      "Best Month           69.63%\n",
      "Worst Month          -36.41%\n",
      "\n",
      "Yearly Sharpe        0.53\n",
      "Yearly Sortino       9.53\n",
      "Yearly Mean          265.04%\n",
      "Yearly Vol           500.74%\n",
      "Yearly Skew          2.36\n",
      "Yearly Kurt          5.78\n",
      "Best Year            1368.87%\n",
      "Worst Year           -73.56%\n",
      "\n",
      "Avg. Drawdown        -10.94%\n",
      "Avg. Drawdown Days   43.67\n",
      "Avg. Up Month        23.95%\n",
      "Avg. Down Month      -12.57%\n",
      "Win Year %           85.71%\n",
      "Win 12m %            83.33%\n"
     ]
    }
   ],
   "source": [
    "res.display()"
   ]
  },
  {
   "cell_type": "code",
   "execution_count": null,
   "id": "a89794be",
   "metadata": {},
   "outputs": [],
   "source": []
  }
 ],
 "metadata": {
  "kernelspec": {
   "display_name": "Python 3",
   "language": "python",
   "name": "python3"
  },
  "language_info": {
   "codemirror_mode": {
    "name": "ipython",
    "version": 3
   },
   "file_extension": ".py",
   "mimetype": "text/x-python",
   "name": "python",
   "nbconvert_exporter": "python",
   "pygments_lexer": "ipython3",
   "version": "3.8.8"
  }
 },
 "nbformat": 4,
 "nbformat_minor": 5
}
