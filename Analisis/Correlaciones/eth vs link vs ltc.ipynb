{
 "cells": [
  {
   "cell_type": "code",
   "execution_count": 1,
   "metadata": {},
   "outputs": [],
   "source": [
    "import pandas as pd\n",
    "import yfinance as yf"
   ]
  },
  {
   "cell_type": "code",
   "execution_count": 2,
   "metadata": {},
   "outputs": [
    {
     "name": "stdout",
     "output_type": "stream",
     "text": [
      "[*********************100%***********************]  3 of 3 completed\n"
     ]
    }
   ],
   "source": [
    "aa = [\"ETH-USD\", \"LINK-USD\", \"ADA-USD\"]\n",
    "df = yf.download(aa)[\"Close\"]\n",
    "df = df.dropna()"
   ]
  },
  {
   "cell_type": "code",
   "execution_count": 3,
   "metadata": {},
   "outputs": [
    {
     "data": {
      "text/html": [
       "<div>\n",
       "<style scoped>\n",
       "    .dataframe tbody tr th:only-of-type {\n",
       "        vertical-align: middle;\n",
       "    }\n",
       "\n",
       "    .dataframe tbody tr th {\n",
       "        vertical-align: top;\n",
       "    }\n",
       "\n",
       "    .dataframe thead th {\n",
       "        text-align: right;\n",
       "    }\n",
       "</style>\n",
       "<table border=\"1\" class=\"dataframe\">\n",
       "  <thead>\n",
       "    <tr style=\"text-align: right;\">\n",
       "      <th></th>\n",
       "      <th>ADA-USD</th>\n",
       "      <th>ETH-USD</th>\n",
       "      <th>LINK-USD</th>\n",
       "    </tr>\n",
       "    <tr>\n",
       "      <th>Date</th>\n",
       "      <th></th>\n",
       "      <th></th>\n",
       "      <th></th>\n",
       "    </tr>\n",
       "  </thead>\n",
       "  <tbody>\n",
       "    <tr>\n",
       "      <th>2017-10-01</th>\n",
       "      <td>NaN</td>\n",
       "      <td>NaN</td>\n",
       "      <td>NaN</td>\n",
       "    </tr>\n",
       "    <tr>\n",
       "      <th>2017-10-02</th>\n",
       "      <td>3.856777</td>\n",
       "      <td>-1.608139</td>\n",
       "      <td>-18.293954</td>\n",
       "    </tr>\n",
       "    <tr>\n",
       "      <th>2017-10-03</th>\n",
       "      <td>-19.728517</td>\n",
       "      <td>-1.684845</td>\n",
       "      <td>-3.148270</td>\n",
       "    </tr>\n",
       "    <tr>\n",
       "      <th>2017-10-04</th>\n",
       "      <td>5.356456</td>\n",
       "      <td>0.066667</td>\n",
       "      <td>14.998770</td>\n",
       "    </tr>\n",
       "    <tr>\n",
       "      <th>2017-10-05</th>\n",
       "      <td>-2.015412</td>\n",
       "      <td>1.095141</td>\n",
       "      <td>2.309487</td>\n",
       "    </tr>\n",
       "    <tr>\n",
       "      <th>...</th>\n",
       "      <td>...</td>\n",
       "      <td>...</td>\n",
       "      <td>...</td>\n",
       "    </tr>\n",
       "    <tr>\n",
       "      <th>2021-04-30</th>\n",
       "      <td>3.397137</td>\n",
       "      <td>0.592340</td>\n",
       "      <td>4.619251</td>\n",
       "    </tr>\n",
       "    <tr>\n",
       "      <th>2021-05-01</th>\n",
       "      <td>0.045984</td>\n",
       "      <td>6.226935</td>\n",
       "      <td>7.836013</td>\n",
       "    </tr>\n",
       "    <tr>\n",
       "      <th>2021-05-02</th>\n",
       "      <td>-1.940692</td>\n",
       "      <td>0.209218</td>\n",
       "      <td>-3.919141</td>\n",
       "    </tr>\n",
       "    <tr>\n",
       "      <th>2021-05-03</th>\n",
       "      <td>2.654332</td>\n",
       "      <td>16.226996</td>\n",
       "      <td>6.467435</td>\n",
       "    </tr>\n",
       "    <tr>\n",
       "      <th>2021-05-04</th>\n",
       "      <td>-5.258974</td>\n",
       "      <td>-4.822193</td>\n",
       "      <td>10.490112</td>\n",
       "    </tr>\n",
       "  </tbody>\n",
       "</table>\n",
       "<p>1308 rows × 3 columns</p>\n",
       "</div>"
      ],
      "text/plain": [
       "              ADA-USD    ETH-USD   LINK-USD\n",
       "Date                                       \n",
       "2017-10-01        NaN        NaN        NaN\n",
       "2017-10-02   3.856777  -1.608139 -18.293954\n",
       "2017-10-03 -19.728517  -1.684845  -3.148270\n",
       "2017-10-04   5.356456   0.066667  14.998770\n",
       "2017-10-05  -2.015412   1.095141   2.309487\n",
       "...               ...        ...        ...\n",
       "2021-04-30   3.397137   0.592340   4.619251\n",
       "2021-05-01   0.045984   6.226935   7.836013\n",
       "2021-05-02  -1.940692   0.209218  -3.919141\n",
       "2021-05-03   2.654332  16.226996   6.467435\n",
       "2021-05-04  -5.258974  -4.822193  10.490112\n",
       "\n",
       "[1308 rows x 3 columns]"
      ]
     },
     "execution_count": 3,
     "metadata": {},
     "output_type": "execute_result"
    }
   ],
   "source": [
    "df = df.pct_change() * 100\n",
    "df"
   ]
  },
  {
   "cell_type": "code",
   "execution_count": 4,
   "metadata": {},
   "outputs": [],
   "source": [
    "correlacion = df.corr()"
   ]
  },
  {
   "cell_type": "code",
   "execution_count": 5,
   "metadata": {},
   "outputs": [
    {
     "data": {
      "text/html": [
       "<div>\n",
       "<style scoped>\n",
       "    .dataframe tbody tr th:only-of-type {\n",
       "        vertical-align: middle;\n",
       "    }\n",
       "\n",
       "    .dataframe tbody tr th {\n",
       "        vertical-align: top;\n",
       "    }\n",
       "\n",
       "    .dataframe thead th {\n",
       "        text-align: right;\n",
       "    }\n",
       "</style>\n",
       "<table border=\"1\" class=\"dataframe\">\n",
       "  <thead>\n",
       "    <tr style=\"text-align: right;\">\n",
       "      <th></th>\n",
       "      <th>ADA-USD</th>\n",
       "      <th>ETH-USD</th>\n",
       "      <th>LINK-USD</th>\n",
       "    </tr>\n",
       "  </thead>\n",
       "  <tbody>\n",
       "    <tr>\n",
       "      <th>ADA-USD</th>\n",
       "      <td>1.000000</td>\n",
       "      <td>0.557918</td>\n",
       "      <td>0.386646</td>\n",
       "    </tr>\n",
       "    <tr>\n",
       "      <th>ETH-USD</th>\n",
       "      <td>0.557918</td>\n",
       "      <td>1.000000</td>\n",
       "      <td>0.547112</td>\n",
       "    </tr>\n",
       "    <tr>\n",
       "      <th>LINK-USD</th>\n",
       "      <td>0.386646</td>\n",
       "      <td>0.547112</td>\n",
       "      <td>1.000000</td>\n",
       "    </tr>\n",
       "  </tbody>\n",
       "</table>\n",
       "</div>"
      ],
      "text/plain": [
       "           ADA-USD   ETH-USD  LINK-USD\n",
       "ADA-USD   1.000000  0.557918  0.386646\n",
       "ETH-USD   0.557918  1.000000  0.547112\n",
       "LINK-USD  0.386646  0.547112  1.000000"
      ]
     },
     "execution_count": 5,
     "metadata": {},
     "output_type": "execute_result"
    }
   ],
   "source": [
    "correlacion"
   ]
  },
  {
   "cell_type": "code",
   "execution_count": 6,
   "metadata": {},
   "outputs": [
    {
     "data": {
      "text/plain": [
       "ADA-USD     0.593833\n",
       "ETH-USD     0.314486\n",
       "LINK-USD    0.645505\n",
       "dtype: float64"
      ]
     },
     "execution_count": 6,
     "metadata": {},
     "output_type": "execute_result"
    }
   ],
   "source": [
    "df.mean()"
   ]
  },
  {
   "cell_type": "code",
   "execution_count": 7,
   "metadata": {},
   "outputs": [
    {
     "data": {
      "text/html": [
       "<div>\n",
       "<style scoped>\n",
       "    .dataframe tbody tr th:only-of-type {\n",
       "        vertical-align: middle;\n",
       "    }\n",
       "\n",
       "    .dataframe tbody tr th {\n",
       "        vertical-align: top;\n",
       "    }\n",
       "\n",
       "    .dataframe thead th {\n",
       "        text-align: right;\n",
       "    }\n",
       "</style>\n",
       "<table border=\"1\" class=\"dataframe\">\n",
       "  <thead>\n",
       "    <tr style=\"text-align: right;\">\n",
       "      <th></th>\n",
       "      <th>ADA-USD</th>\n",
       "      <th>ETH-USD</th>\n",
       "      <th>LINK-USD</th>\n",
       "    </tr>\n",
       "  </thead>\n",
       "  <tbody>\n",
       "    <tr>\n",
       "      <th>count</th>\n",
       "      <td>1307.000000</td>\n",
       "      <td>1307.000000</td>\n",
       "      <td>1307.000000</td>\n",
       "    </tr>\n",
       "    <tr>\n",
       "      <th>mean</th>\n",
       "      <td>0.593833</td>\n",
       "      <td>0.314486</td>\n",
       "      <td>0.645505</td>\n",
       "    </tr>\n",
       "    <tr>\n",
       "      <th>std</th>\n",
       "      <td>8.342245</td>\n",
       "      <td>5.096649</td>\n",
       "      <td>7.705041</td>\n",
       "    </tr>\n",
       "    <tr>\n",
       "      <th>min</th>\n",
       "      <td>-39.567200</td>\n",
       "      <td>-42.347221</td>\n",
       "      <td>-45.913037</td>\n",
       "    </tr>\n",
       "    <tr>\n",
       "      <th>25%</th>\n",
       "      <td>-2.946296</td>\n",
       "      <td>-2.008054</td>\n",
       "      <td>-3.530193</td>\n",
       "    </tr>\n",
       "    <tr>\n",
       "      <th>50%</th>\n",
       "      <td>0.100222</td>\n",
       "      <td>0.122115</td>\n",
       "      <td>-0.007074</td>\n",
       "    </tr>\n",
       "    <tr>\n",
       "      <th>75%</th>\n",
       "      <td>3.276730</td>\n",
       "      <td>2.749690</td>\n",
       "      <td>4.184552</td>\n",
       "    </tr>\n",
       "    <tr>\n",
       "      <th>max</th>\n",
       "      <td>136.680970</td>\n",
       "      <td>26.458071</td>\n",
       "      <td>61.706886</td>\n",
       "    </tr>\n",
       "  </tbody>\n",
       "</table>\n",
       "</div>"
      ],
      "text/plain": [
       "           ADA-USD      ETH-USD     LINK-USD\n",
       "count  1307.000000  1307.000000  1307.000000\n",
       "mean      0.593833     0.314486     0.645505\n",
       "std       8.342245     5.096649     7.705041\n",
       "min     -39.567200   -42.347221   -45.913037\n",
       "25%      -2.946296    -2.008054    -3.530193\n",
       "50%       0.100222     0.122115    -0.007074\n",
       "75%       3.276730     2.749690     4.184552\n",
       "max     136.680970    26.458071    61.706886"
      ]
     },
     "execution_count": 7,
     "metadata": {},
     "output_type": "execute_result"
    }
   ],
   "source": [
    "df.describe()"
   ]
  },
  {
   "cell_type": "code",
   "execution_count": null,
   "metadata": {},
   "outputs": [],
   "source": []
  }
 ],
 "metadata": {
  "kernelspec": {
   "display_name": "Python 3",
   "language": "python",
   "name": "python3"
  },
  "language_info": {
   "codemirror_mode": {
    "name": "ipython",
    "version": 3
   },
   "file_extension": ".py",
   "mimetype": "text/x-python",
   "name": "python",
   "nbconvert_exporter": "python",
   "pygments_lexer": "ipython3",
   "version": "3.8.5"
  }
 },
 "nbformat": 4,
 "nbformat_minor": 4
}
